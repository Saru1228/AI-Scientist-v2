{
  "nbformat": 4,
  "nbformat_minor": 0,
  "metadata": {
    "colab": {
      "provenance": [],
      "gpuType": "T4",
      "include_colab_link": true
    },
    "kernelspec": {
      "name": "python3",
      "display_name": "Python 3"
    },
    "language_info": {
      "name": "python"
    },
    "accelerator": "GPU"
  },
  "cells": [
    {
      "cell_type": "markdown",
      "metadata": {
        "id": "view-in-github",
        "colab_type": "text"
      },
      "source": [
        "<a href=\"https://colab.research.google.com/github/Saru1228/AI-Scientist-v2/blob/main/GPT_SoVITS_v4.ipynb\" target=\"_parent\"><img src=\"https://colab.research.google.com/assets/colab-badge.svg\" alt=\"Open In Colab\"/></a>"
      ]
    },
    {
      "cell_type": "code",
      "source": [
        "#@title 一键运行 GPT-SoVITS-v4\n",
        "#点击左侧运行按钮后，如果运行过程中遇到弹窗提醒，点击取消cancel即可\n",
        "!git clone https://huggingface.co/kevinwang676/GPT-SoVITS-v4.git\n",
        "%cd GPT-SoVITS-v4\n",
        "!pip install -r requirements.txt\n",
        "!export is_share=True && python webui.py zh_CN"
      ],
      "metadata": {
        "id": "vj0zXyLTT7Kq",
        "outputId": "87936302-f351-49c1-f580-1c31ed067cdf",
        "colab": {
          "base_uri": "https://localhost:8080/"
        }
      },
      "execution_count": null,
      "outputs": [
        {
          "output_type": "stream",
          "name": "stdout",
          "text": [
            "Cloning into 'GPT-SoVITS-v4'...\n",
            "remote: Enumerating objects: 353, done.\u001b[K\n",
            "remote: Counting objects: 100% (349/349), done.\u001b[K\n",
            "remote: Compressing objects: 100% (327/327), done.\u001b[K\n",
            "remote: Total 353 (delta 42), reused 0 (delta 0), pack-reused 4 (from 1)\u001b[K\n",
            "Receiving objects: 100% (353/353), 3.17 MiB | 1.48 MiB/s, done.\n",
            "Resolving deltas: 100% (42/42), done.\n"
          ]
        }
      ]
    },
    {
      "cell_type": "code",
      "source": [],
      "metadata": {
        "id": "crCE-LMZULX_"
      },
      "execution_count": null,
      "outputs": []
    }
  ]
}